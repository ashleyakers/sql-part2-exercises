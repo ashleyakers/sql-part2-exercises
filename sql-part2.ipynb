{
    "metadata": {
        "kernelspec": {
            "name": "SQL",
            "display_name": "SQL",
            "language": "sql"
        },
        "language_info": {
            "name": "sql",
            "version": ""
        }
    },
    "nbformat_minor": 2,
    "nbformat": 4,
    "cells": [
        {
            "cell_type": "markdown",
            "source": [
                "# Exercises\n",
                "\n",
                "To get started with the exercises, go ahead and take a look at RideShareDB. This database was created with data from a dataset on [Kaggle](https://www.kaggle.com/fivethirtyeight/uber-pickups-in-new-york-city). The dataset was made using data obtained from the NYC Taxi and Limosine Commission or TLC. TLC tracks this data by base and even rideshare companies such as Uber and Lyft have assigned bases that each pickup must be attributed to. For the exercises, we will be using the `other-FHV-services-jan-july15` and `lyft` tables in RideShareDB. These tables include the data for each pickup attributed to a few other For-Hire Vehicles (FHV) services and Lyft. These tables do not include any data from Uber.\n",
                "\n",
                "## String Functions\n",
                "\n",
                "Write a query that returns the last 3 characters of the base name in `other-FHV-services-jan-july15`. Do you see anything that is a common abbreviation at the end of business names?"
            ],
            "metadata": {
                "azdata_cell_guid": "2b5a5976-8b51-4e24-a08d-234ef97f379a"
            },
            "attachments": {}
        },
        {
            "cell_type": "markdown",
            "source": [
                "The number of trips and the number of pickups are both stored as strings in `other-FHV-services-jan-july15`. This is because the data provided included spaces in some of the numbers. Write a query that returns the location of spaces in both of these columns."
            ],
            "metadata": {
                "azdata_cell_guid": "6c206898-77f4-4357-8d17-33192980f45d"
            },
            "attachments": {}
        },
        {
            "cell_type": "code",
            "source": [
                "SELECT TOP 10 (Base_Name), RIGHT(Base_Name, 3)\r\n",
                "FROM RideShareDB.dbo.other_FHV_services_jan_aug_2015;   --Most of them end in INC or CORP.\r\n",
                "\r\n",
                "SELECT TOP 10 (Number_of_Trips), LTRIM(Number_of_Trips)\r\n",
                "FROM RideShareDB.dbo.other_FHV_services_jan_aug_2015;"
            ],
            "metadata": {
                "azdata_cell_guid": "3c810c3d-4e66-447b-8326-19e59d8a1b88",
                "language": "sql",
                "tags": []
            },
            "outputs": [
                {
                    "output_type": "display_data",
                    "data": {
                        "text/html": "(10 rows affected)"
                    },
                    "metadata": {}
                },
                {
                    "output_type": "display_data",
                    "data": {
                        "text/html": "(10 rows affected)"
                    },
                    "metadata": {}
                },
                {
                    "output_type": "display_data",
                    "data": {
                        "text/html": "Total execution time: 00:00:00.081"
                    },
                    "metadata": {}
                },
                {
                    "output_type": "execute_result",
                    "metadata": {},
                    "execution_count": 11,
                    "data": {
                        "application/vnd.dataresource+json": {
                            "schema": {
                                "fields": [
                                    {
                                        "name": "Base_Name"
                                    },
                                    {
                                        "name": "(No column name)"
                                    }
                                ]
                            },
                            "data": [
                                {
                                    "0": "LOVE CORP CAR INC",
                                    "1": "INC"
                                },
                                {
                                    "0": "NY ONE CORP CAR INC",
                                    "1": "INC"
                                },
                                {
                                    "0": "COMMUNITY CAR SVC CORP",
                                    "1": "ORP"
                                },
                                {
                                    "0": "CHARGE AND RIDE INC",
                                    "1": "INC"
                                },
                                {
                                    "0": "LIBERTY CAR SERVICE INC.",
                                    "1": "NC."
                                },
                                {
                                    "0": "PROFESSIONAL CAR SERVICE INC",
                                    "1": "INC"
                                },
                                {
                                    "0": "PARK WEST EXEC. SERVICES, INC.",
                                    "1": "NC."
                                },
                                {
                                    "0": "YELLOWSTONE TRANSPORTATION INC.",
                                    "1": "NC."
                                },
                                {
                                    "0": "XYZ TWO WAY RADIO",
                                    "1": "DIO"
                                },
                                {
                                    "0": "FLEET RADIO DISPATCH CORP.",
                                    "1": "RP."
                                }
                            ]
                        },
                        "text/html": [
                            "<table>",
                            "<tr><th>Base_Name</th><th>(No column name)</th></tr>",
                            "<tr><td>LOVE CORP CAR INC</td><td>INC</td></tr>",
                            "<tr><td>NY ONE CORP CAR INC</td><td>INC</td></tr>",
                            "<tr><td>COMMUNITY CAR SVC CORP</td><td>ORP</td></tr>",
                            "<tr><td>CHARGE AND RIDE INC</td><td>INC</td></tr>",
                            "<tr><td>LIBERTY CAR SERVICE INC.</td><td>NC.</td></tr>",
                            "<tr><td>PROFESSIONAL CAR SERVICE INC</td><td>INC</td></tr>",
                            "<tr><td>PARK WEST EXEC. SERVICES, INC.</td><td>NC.</td></tr>",
                            "<tr><td>YELLOWSTONE TRANSPORTATION INC.</td><td>NC.</td></tr>",
                            "<tr><td>XYZ TWO WAY RADIO</td><td>DIO</td></tr>",
                            "<tr><td>FLEET RADIO DISPATCH CORP.</td><td>RP.</td></tr>",
                            "</table>"
                        ]
                    }
                },
                {
                    "output_type": "execute_result",
                    "metadata": {},
                    "execution_count": 11,
                    "data": {
                        "application/vnd.dataresource+json": {
                            "schema": {
                                "fields": [
                                    {
                                        "name": "Number_of_Trips"
                                    },
                                    {
                                        "name": "(No column name)"
                                    }
                                ]
                            },
                            "data": [
                                {
                                    "0": "26 ",
                                    "1": "26 "
                                },
                                {
                                    "0": "45 ",
                                    "1": "45 "
                                },
                                {
                                    "0": "731 ",
                                    "1": "731 "
                                },
                                {
                                    "0": "10 ",
                                    "1": "10 "
                                },
                                {
                                    "0": "814 ",
                                    "1": "814 "
                                },
                                {
                                    "0": "220 ",
                                    "1": "220 "
                                },
                                {
                                    "0": "36 ",
                                    "1": "36 "
                                },
                                {
                                    "0": " 1,137 ",
                                    "1": "1,137 "
                                },
                                {
                                    "0": "236 ",
                                    "1": "236 "
                                },
                                {
                                    "0": "47 ",
                                    "1": "47 "
                                }
                            ]
                        },
                        "text/html": [
                            "<table>",
                            "<tr><th>Number_of_Trips</th><th>(No column name)</th></tr>",
                            "<tr><td>26 </td><td>26 </td></tr>",
                            "<tr><td>45 </td><td>45 </td></tr>",
                            "<tr><td>731 </td><td>731 </td></tr>",
                            "<tr><td>10 </td><td>10 </td></tr>",
                            "<tr><td>814 </td><td>814 </td></tr>",
                            "<tr><td>220 </td><td>220 </td></tr>",
                            "<tr><td>36 </td><td>36 </td></tr>",
                            "<tr><td> 1,137 </td><td>1,137 </td></tr>",
                            "<tr><td>236 </td><td>236 </td></tr>",
                            "<tr><td>47 </td><td>47 </td></tr>",
                            "</table>"
                        ]
                    }
                }
            ],
            "execution_count": 11
        },
        {
            "cell_type": "markdown",
            "source": [
                "## Date Functions\n",
                "\n",
                "For ``other-FHV-services-jan-july15``, display the name of month of the pickup date and order in descending order. Is the result of this query what you expected?"
            ],
            "metadata": {
                "azdata_cell_guid": "b138ac53-9fff-4320-9ff1-08717873f2ee"
            },
            "attachments": {}
        },
        {
            "cell_type": "code",
            "source": [
                "SELECT TOP 10 (Pick_Up_Date), DATENAME(MONTH, Pick_Up_Date)\r\n",
                "FROM RideShareDB.dbo.other_FHV_services_jan_aug_2015\r\n",
                "ORDER BY (Pick_Up_Date) DESC;"
            ],
            "metadata": {
                "azdata_cell_guid": "8abd404c-a360-4b10-8d6b-8b34ef763bc7",
                "tags": [],
                "language": "sql"
            },
            "outputs": [
                {
                    "output_type": "display_data",
                    "data": {
                        "text/html": "(10 rows affected)"
                    },
                    "metadata": {}
                },
                {
                    "output_type": "display_data",
                    "data": {
                        "text/html": "Total execution time: 00:00:00.074"
                    },
                    "metadata": {}
                },
                {
                    "output_type": "execute_result",
                    "metadata": {},
                    "execution_count": 14,
                    "data": {
                        "application/vnd.dataresource+json": {
                            "schema": {
                                "fields": [
                                    {
                                        "name": "Pick_Up_Date"
                                    },
                                    {
                                        "name": "(No column name)"
                                    }
                                ]
                            },
                            "data": [
                                {
                                    "0": "2015-08-31",
                                    "1": "August"
                                },
                                {
                                    "0": "2015-08-31",
                                    "1": "August"
                                },
                                {
                                    "0": "2015-08-31",
                                    "1": "August"
                                },
                                {
                                    "0": "2015-08-31",
                                    "1": "August"
                                },
                                {
                                    "0": "2015-08-30",
                                    "1": "August"
                                },
                                {
                                    "0": "2015-08-30",
                                    "1": "August"
                                },
                                {
                                    "0": "2015-08-30",
                                    "1": "August"
                                },
                                {
                                    "0": "2015-08-29",
                                    "1": "August"
                                },
                                {
                                    "0": "2015-08-29",
                                    "1": "August"
                                },
                                {
                                    "0": "2015-08-29",
                                    "1": "August"
                                }
                            ]
                        },
                        "text/html": [
                            "<table>",
                            "<tr><th>Pick_Up_Date</th><th>(No column name)</th></tr>",
                            "<tr><td>2015-08-31</td><td>August</td></tr>",
                            "<tr><td>2015-08-31</td><td>August</td></tr>",
                            "<tr><td>2015-08-31</td><td>August</td></tr>",
                            "<tr><td>2015-08-31</td><td>August</td></tr>",
                            "<tr><td>2015-08-30</td><td>August</td></tr>",
                            "<tr><td>2015-08-30</td><td>August</td></tr>",
                            "<tr><td>2015-08-30</td><td>August</td></tr>",
                            "<tr><td>2015-08-29</td><td>August</td></tr>",
                            "<tr><td>2015-08-29</td><td>August</td></tr>",
                            "<tr><td>2015-08-29</td><td>August</td></tr>",
                            "</table>"
                        ]
                    }
                }
            ],
            "execution_count": 14
        },
        {
            "cell_type": "markdown",
            "source": [
                "Using `other-FHV-services-jan-july15`, write a query that returns the day number of the pickup date and month name and orders it in ascending order by day number."
            ],
            "metadata": {
                "azdata_cell_guid": "aa6bf15c-b847-45f0-ba0d-79c7636c4578"
            },
            "attachments": {}
        },
        {
            "cell_type": "code",
            "source": [
                "SELECT TOP 10 (Pick_Up_Date),DATEPART(DAY, Pick_Up_Date), DATENAME(MONTH, Pick_Up_Date)\r\n",
                "FROM RideShareDB.dbo.other_FHV_services_jan_aug_2015\r\n",
                "ORDER BY DATEPART(DAY, Pick_Up_Date) ASC;"
            ],
            "metadata": {
                "azdata_cell_guid": "46dcd617-8dcf-4c15-b5fa-c0ec04f2bf29",
                "language": "sql"
            },
            "outputs": [
                {
                    "output_type": "display_data",
                    "data": {
                        "text/html": "(10 rows affected)"
                    },
                    "metadata": {}
                },
                {
                    "output_type": "display_data",
                    "data": {
                        "text/html": "Total execution time: 00:00:00.126"
                    },
                    "metadata": {}
                },
                {
                    "output_type": "execute_result",
                    "metadata": {},
                    "execution_count": 15,
                    "data": {
                        "application/vnd.dataresource+json": {
                            "schema": {
                                "fields": [
                                    {
                                        "name": "Pick_Up_Date"
                                    },
                                    {
                                        "name": "(No column name)"
                                    },
                                    {
                                        "name": "(No column name)"
                                    }
                                ]
                            },
                            "data": [
                                {
                                    "0": "2015-01-01",
                                    "1": "1",
                                    "2": "January"
                                },
                                {
                                    "0": "2015-01-01",
                                    "1": "1",
                                    "2": "January"
                                },
                                {
                                    "0": "2015-01-01",
                                    "1": "1",
                                    "2": "January"
                                },
                                {
                                    "0": "2015-01-01",
                                    "1": "1",
                                    "2": "January"
                                },
                                {
                                    "0": "2015-01-01",
                                    "1": "1",
                                    "2": "January"
                                },
                                {
                                    "0": "2015-01-01",
                                    "1": "1",
                                    "2": "January"
                                },
                                {
                                    "0": "2015-01-01",
                                    "1": "1",
                                    "2": "January"
                                },
                                {
                                    "0": "2015-01-01",
                                    "1": "1",
                                    "2": "January"
                                },
                                {
                                    "0": "2015-01-01",
                                    "1": "1",
                                    "2": "January"
                                },
                                {
                                    "0": "2015-01-01",
                                    "1": "1",
                                    "2": "January"
                                }
                            ]
                        },
                        "text/html": [
                            "<table>",
                            "<tr><th>Pick_Up_Date</th><th>(No column name)</th><th>(No column name)</th></tr>",
                            "<tr><td>2015-01-01</td><td>1</td><td>January</td></tr>",
                            "<tr><td>2015-01-01</td><td>1</td><td>January</td></tr>",
                            "<tr><td>2015-01-01</td><td>1</td><td>January</td></tr>",
                            "<tr><td>2015-01-01</td><td>1</td><td>January</td></tr>",
                            "<tr><td>2015-01-01</td><td>1</td><td>January</td></tr>",
                            "<tr><td>2015-01-01</td><td>1</td><td>January</td></tr>",
                            "<tr><td>2015-01-01</td><td>1</td><td>January</td></tr>",
                            "<tr><td>2015-01-01</td><td>1</td><td>January</td></tr>",
                            "<tr><td>2015-01-01</td><td>1</td><td>January</td></tr>",
                            "<tr><td>2015-01-01</td><td>1</td><td>January</td></tr>",
                            "</table>"
                        ]
                    }
                }
            ],
            "execution_count": 15
        },
        {
            "cell_type": "markdown",
            "source": [
                "## Aggregate Functions\n",
                "\n",
                "Write a query that returns the most easterly Lyft pickup."
            ],
            "metadata": {
                "azdata_cell_guid": "348342a2-6039-43b1-8461-841288deee94"
            },
            "attachments": {}
        },
        {
            "cell_type": "code",
            "source": [
                "SELECT TOP 1 (start_lat), MAX(start_lat)\r\n",
                "FROM RideShareDB.dbo.lyft\r\n",
                "GROUP BY start_lat;"
            ],
            "metadata": {
                "azdata_cell_guid": "f2cb1b41-c92a-47ea-bd77-7bafd78af1d4",
                "tags": [],
                "language": "sql"
            },
            "outputs": [
                {
                    "output_type": "display_data",
                    "data": {
                        "text/html": "Warning: Null value is eliminated by an aggregate or other SET operation."
                    },
                    "metadata": {}
                },
                {
                    "output_type": "display_data",
                    "data": {
                        "text/html": "(1 row affected)"
                    },
                    "metadata": {}
                },
                {
                    "output_type": "display_data",
                    "data": {
                        "text/html": "Total execution time: 00:00:00.133"
                    },
                    "metadata": {}
                },
                {
                    "output_type": "execute_result",
                    "metadata": {},
                    "execution_count": 18,
                    "data": {
                        "application/vnd.dataresource+json": {
                            "schema": {
                                "fields": [
                                    {
                                        "name": "start_lat"
                                    },
                                    {
                                        "name": "(No column name)"
                                    }
                                ]
                            },
                            "data": [
                                {
                                    "0": "40.57728",
                                    "1": "40.57728"
                                }
                            ]
                        },
                        "text/html": [
                            "<table>",
                            "<tr><th>start_lat</th><th>(No column name)</th></tr>",
                            "<tr><td>40.57728</td><td>40.57728</td></tr>",
                            "</table>"
                        ]
                    }
                }
            ],
            "execution_count": 18
        },
        {
            "cell_type": "markdown",
            "source": [
                "Write a query the returns the most northerly Lyft pickup."
            ],
            "metadata": {
                "azdata_cell_guid": "bd589862-044d-4909-8565-8aa4771d9c00"
            },
            "attachments": {}
        },
        {
            "cell_type": "code",
            "source": [
                "SELECT TOP 1 (start_lng), MAX(start_lng)\r\n",
                "FROM RideShareDB.dbo.lyft\r\n",
                "GROUP BY start_lng;"
            ],
            "metadata": {
                "azdata_cell_guid": "189b7c25-0dfa-4ca0-a683-d402b3875abd",
                "language": "sql"
            },
            "outputs": [
                {
                    "output_type": "display_data",
                    "data": {
                        "text/html": "Warning: Null value is eliminated by an aggregate or other SET operation."
                    },
                    "metadata": {}
                },
                {
                    "output_type": "display_data",
                    "data": {
                        "text/html": "(1 row affected)"
                    },
                    "metadata": {}
                },
                {
                    "output_type": "display_data",
                    "data": {
                        "text/html": "Total execution time: 00:00:00.134"
                    },
                    "metadata": {}
                },
                {
                    "output_type": "execute_result",
                    "metadata": {},
                    "execution_count": 19,
                    "data": {
                        "application/vnd.dataresource+json": {
                            "schema": {
                                "fields": [
                                    {
                                        "name": "start_lng"
                                    },
                                    {
                                        "name": "(No column name)"
                                    }
                                ]
                            },
                            "data": [
                                {
                                    "0": "-73.98592",
                                    "1": "-73.98592"
                                }
                            ]
                        },
                        "text/html": [
                            "<table>",
                            "<tr><th>start_lng</th><th>(No column name)</th></tr>",
                            "<tr><td>-73.98592</td><td>-73.98592</td></tr>",
                            "</table>"
                        ]
                    }
                }
            ],
            "execution_count": 19
        },
        {
            "cell_type": "markdown",
            "source": [
                "Using ``other-FHV-services-jan-july15``, write a query that connects the the base number and the base name in a string that uses the following format: base\\_number: base\\_name."
            ],
            "metadata": {
                "azdata_cell_guid": "674f8758-14bf-4712-b029-0ad0447617fb"
            },
            "attachments": {}
        },
        {
            "cell_type": "code",
            "source": [
                "SELECT TOP 5 FORMAT (Base_Number, Base_Name, 'string: string')\r\n",
                "FROM RideShareDB.dbo.other_FHV_services_jan_aug_2015;"
            ],
            "metadata": {
                "azdata_cell_guid": "f6f4b247-63c0-4997-8769-204e37a55c08",
                "language": "sql"
            },
            "outputs": [
                {
                    "output_type": "error",
                    "evalue": "Msg 8116, Level 16, State 1, Line 1\r\nArgument data type nvarchar is invalid for argument 1 of format function.",
                    "ename": "",
                    "traceback": []
                },
                {
                    "output_type": "display_data",
                    "data": {
                        "text/html": "Total execution time: 00:00:00.045"
                    },
                    "metadata": {}
                }
            ],
            "execution_count": 25
        }
    ]
}